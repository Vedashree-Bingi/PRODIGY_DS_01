{
 "cells": [
  {
   "cell_type": "code",
   "execution_count": 3,
   "id": "31c435a3",
   "metadata": {},
   "outputs": [],
   "source": [
    "#importing all the required libraries\n",
    "\n",
    "import pandas as pd\n",
    "import matplotlib.pyplot as plt\n",
    "%matplotlib inline"
   ]
  },
  {
   "cell_type": "code",
   "execution_count": 4,
   "id": "b87995d0",
   "metadata": {},
   "outputs": [
    {
     "data": {
      "text/html": [
       "<div>\n",
       "<style scoped>\n",
       "    .dataframe tbody tr th:only-of-type {\n",
       "        vertical-align: middle;\n",
       "    }\n",
       "\n",
       "    .dataframe tbody tr th {\n",
       "        vertical-align: top;\n",
       "    }\n",
       "\n",
       "    .dataframe thead th {\n",
       "        text-align: right;\n",
       "    }\n",
       "</style>\n",
       "<table border=\"1\" class=\"dataframe\">\n",
       "  <thead>\n",
       "    <tr style=\"text-align: right;\">\n",
       "      <th></th>\n",
       "      <th>Country</th>\n",
       "      <th>Total</th>\n",
       "      <th>65+</th>\n",
       "      <th>25-64 years</th>\n",
       "      <th>15-24 years</th>\n",
       "      <th>5-14 years</th>\n",
       "      <th>0-4 years</th>\n",
       "    </tr>\n",
       "  </thead>\n",
       "  <tbody>\n",
       "    <tr>\n",
       "      <th>0</th>\n",
       "      <td>Afghanistan</td>\n",
       "      <td>40099460</td>\n",
       "      <td>964016</td>\n",
       "      <td>12995277</td>\n",
       "      <td>8727160</td>\n",
       "      <td>10922454</td>\n",
       "      <td>6490554</td>\n",
       "    </tr>\n",
       "    <tr>\n",
       "      <th>1</th>\n",
       "      <td>Albania</td>\n",
       "      <td>2854710</td>\n",
       "      <td>463442</td>\n",
       "      <td>1527360</td>\n",
       "      <td>399113</td>\n",
       "      <td>323402</td>\n",
       "      <td>141393</td>\n",
       "    </tr>\n",
       "    <tr>\n",
       "      <th>2</th>\n",
       "      <td>Algeria</td>\n",
       "      <td>44177964</td>\n",
       "      <td>2731079</td>\n",
       "      <td>21871300</td>\n",
       "      <td>6007614</td>\n",
       "      <td>8697129</td>\n",
       "      <td>4870841</td>\n",
       "    </tr>\n",
       "    <tr>\n",
       "      <th>3</th>\n",
       "      <td>American Samoa</td>\n",
       "      <td>45056</td>\n",
       "      <td>3088</td>\n",
       "      <td>22433</td>\n",
       "      <td>7141</td>\n",
       "      <td>8365</td>\n",
       "      <td>4029</td>\n",
       "    </tr>\n",
       "    <tr>\n",
       "      <th>4</th>\n",
       "      <td>Andorra</td>\n",
       "      <td>79057</td>\n",
       "      <td>11499</td>\n",
       "      <td>48651</td>\n",
       "      <td>8570</td>\n",
       "      <td>7797</td>\n",
       "      <td>2540</td>\n",
       "    </tr>\n",
       "    <tr>\n",
       "      <th>...</th>\n",
       "      <td>...</td>\n",
       "      <td>...</td>\n",
       "      <td>...</td>\n",
       "      <td>...</td>\n",
       "      <td>...</td>\n",
       "      <td>...</td>\n",
       "      <td>...</td>\n",
       "    </tr>\n",
       "    <tr>\n",
       "      <th>230</th>\n",
       "      <td>Wallis and Futuna</td>\n",
       "      <td>11654</td>\n",
       "      <td>1521</td>\n",
       "      <td>5767</td>\n",
       "      <td>1652</td>\n",
       "      <td>1961</td>\n",
       "      <td>753</td>\n",
       "    </tr>\n",
       "    <tr>\n",
       "      <th>231</th>\n",
       "      <td>Western Sahara</td>\n",
       "      <td>565590</td>\n",
       "      <td>31718</td>\n",
       "      <td>314200</td>\n",
       "      <td>80572</td>\n",
       "      <td>92147</td>\n",
       "      <td>46953</td>\n",
       "    </tr>\n",
       "    <tr>\n",
       "      <th>232</th>\n",
       "      <td>Yemen</td>\n",
       "      <td>32981644</td>\n",
       "      <td>886890</td>\n",
       "      <td>12210659</td>\n",
       "      <td>6733620</td>\n",
       "      <td>8436417</td>\n",
       "      <td>4714059</td>\n",
       "    </tr>\n",
       "    <tr>\n",
       "      <th>233</th>\n",
       "      <td>Zambia</td>\n",
       "      <td>19473132</td>\n",
       "      <td>338628</td>\n",
       "      <td>6734346</td>\n",
       "      <td>3975624</td>\n",
       "      <td>5351636</td>\n",
       "      <td>3072899</td>\n",
       "    </tr>\n",
       "    <tr>\n",
       "      <th>234</th>\n",
       "      <td>Zimbabwe</td>\n",
       "      <td>15993525</td>\n",
       "      <td>537915</td>\n",
       "      <td>5572892</td>\n",
       "      <td>3342436</td>\n",
       "      <td>4240570</td>\n",
       "      <td>2299712</td>\n",
       "    </tr>\n",
       "  </tbody>\n",
       "</table>\n",
       "<p>235 rows × 7 columns</p>\n",
       "</div>"
      ],
      "text/plain": [
       "               Country     Total      65+  25-64 years  15-24 years  \\\n",
       "0          Afghanistan  40099460   964016     12995277      8727160   \n",
       "1              Albania   2854710   463442      1527360       399113   \n",
       "2              Algeria  44177964  2731079     21871300      6007614   \n",
       "3       American Samoa     45056     3088        22433         7141   \n",
       "4              Andorra     79057    11499        48651         8570   \n",
       "..                 ...       ...      ...          ...          ...   \n",
       "230  Wallis and Futuna     11654     1521         5767         1652   \n",
       "231     Western Sahara    565590    31718       314200        80572   \n",
       "232              Yemen  32981644   886890     12210659      6733620   \n",
       "233             Zambia  19473132   338628      6734346      3975624   \n",
       "234           Zimbabwe  15993525   537915      5572892      3342436   \n",
       "\n",
       "     5-14 years  0-4 years  \n",
       "0      10922454    6490554  \n",
       "1        323402     141393  \n",
       "2       8697129    4870841  \n",
       "3          8365       4029  \n",
       "4          7797       2540  \n",
       "..          ...        ...  \n",
       "230        1961        753  \n",
       "231       92147      46953  \n",
       "232     8436417    4714059  \n",
       "233     5351636    3072899  \n",
       "234     4240570    2299712  \n",
       "\n",
       "[235 rows x 7 columns]"
      ]
     },
     "execution_count": 4,
     "metadata": {},
     "output_type": "execute_result"
    }
   ],
   "source": [
    "#load the data from the CSV file\n",
    "\n",
    "data=pd.read_csv(\"population_by_age_group.csv\")\n",
    "data"
   ]
  },
  {
   "cell_type": "code",
   "execution_count": 5,
   "id": "5bfe92a5",
   "metadata": {},
   "outputs": [
    {
     "name": "stdout",
     "output_type": "stream",
     "text": [
      "<class 'pandas.core.frame.DataFrame'>\n",
      "RangeIndex: 235 entries, 0 to 234\n",
      "Data columns (total 7 columns):\n",
      " #   Column       Non-Null Count  Dtype \n",
      "---  ------       --------------  ----- \n",
      " 0   Country      235 non-null    object\n",
      " 1   Total        235 non-null    int64 \n",
      " 2   65+          235 non-null    int64 \n",
      " 3   25-64 years  235 non-null    int64 \n",
      " 4   15-24 years  235 non-null    int64 \n",
      " 5   5-14 years   235 non-null    int64 \n",
      " 6   0-4 years    235 non-null    int64 \n",
      "dtypes: int64(6), object(1)\n",
      "memory usage: 13.0+ KB\n"
     ]
    }
   ],
   "source": [
    "#information related to the dataset\n",
    "\n",
    "data.info()"
   ]
  },
  {
   "cell_type": "code",
   "execution_count": 6,
   "id": "60e30b55",
   "metadata": {},
   "outputs": [
    {
     "name": "stdout",
     "output_type": "stream",
     "text": [
      "Index(['Country', 'Total', '65+', '25-64 years', '15-24 years', '5-14 years',\n",
      "       '0-4 years'],\n",
      "      dtype='object')\n"
     ]
    }
   ],
   "source": [
    "#printing all the columns of the dataset\n",
    "\n",
    "data=pd.read_csv(\"population_by_age_group.csv\")\n",
    "print(data.columns)"
   ]
  },
  {
   "cell_type": "code",
   "execution_count": 7,
   "id": "262f6df7",
   "metadata": {},
   "outputs": [],
   "source": [
    "#defining the age categories from the dataset\n",
    "\n",
    "age_categories=['65+','25-64 years','15-24 years','5-14 years','0-4 years']"
   ]
  },
  {
   "cell_type": "code",
   "execution_count": 10,
   "id": "4cfaebf2",
   "metadata": {},
   "outputs": [],
   "source": [
    "#creating the dataframe with columns of each category\n",
    "\n",
    "data_combining=data[['65+','25-64 years','15-24 years','5-14 years','0-4 years']].copy()\n",
    "data_combining.columns=age_categories"
   ]
  },
  {
   "cell_type": "code",
   "execution_count": 14,
   "id": "2871955f",
   "metadata": {},
   "outputs": [],
   "source": [
    "#calculating the total population\n",
    "\n",
    "total_population=data_combining.sum()"
   ]
  },
  {
   "cell_type": "code",
   "execution_count": 17,
   "id": "908d85f3",
   "metadata": {},
   "outputs": [
    {
     "data": {
      "image/png": "[encoded data removed]",
      "text/plain": [
       "<Figure size 1400x1000 with 1 Axes>"
      ]
     },
     "metadata": {},
     "output_type": "display_data"
    }
   ],
   "source": [
    "#creating the bar chart for the dataset based on age distrubition\n",
    "\n",
    "plt.figure(figsize=(14,10))\n",
    "plt.bar(age_categories,total_population)\n",
    "plt.xlabel(\"Age groups\")\n",
    "plt.ylabel(\"Population in billions\")\n",
    "plt.title(\"Bar graph based on age groups\")\n",
    "plt.show()\n"
   ]
  },
  {
   "cell_type": "code",
   "execution_count": null,
   "id": "4619bbd4",
   "metadata": {},
   "outputs": [],
   "source": []
  }
 ],
 "metadata": {
  "kernelspec": {
   "display_name": "Python 3 (ipykernel)",
   "language": "python",
   "name": "python3"
  },
  "language_info": {
   "codemirror_mode": {
    "name": "ipython",
    "version": 3
   },
   "file_extension": ".py",
   "mimetype": "text/x-python",
   "name": "python",
   "nbconvert_exporter": "python",
   "pygments_lexer": "ipython3",
   "version": "3.10.9"
  }
 },
 "nbformat": 4,
 "nbformat_minor": 5
}
